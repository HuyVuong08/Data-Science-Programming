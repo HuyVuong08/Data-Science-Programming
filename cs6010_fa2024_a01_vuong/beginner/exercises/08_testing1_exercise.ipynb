{
 "cells": [
  {
   "cell_type": "code",
   "execution_count": 1,
   "metadata": {},
   "outputs": [
    {
     "name": "stdout",
     "output_type": "stream",
     "text": [
      "Defaulting to user installation because normal site-packages is not writeable\n",
      "Requirement already satisfied: pytest in /Users/jamievuong/Library/Python/3.9/lib/python/site-packages (8.3.2)\n",
      "Requirement already satisfied: iniconfig in /Users/jamievuong/Library/Python/3.9/lib/python/site-packages (from pytest) (2.0.0)\n",
      "Requirement already satisfied: packaging in /Users/jamievuong/Library/Python/3.9/lib/python/site-packages (from pytest) (24.1)\n",
      "Requirement already satisfied: pluggy<2,>=1.5 in /Users/jamievuong/Library/Python/3.9/lib/python/site-packages (from pytest) (1.5.0)\n",
      "Requirement already satisfied: exceptiongroup>=1.0.0rc8 in /Users/jamievuong/Library/Python/3.9/lib/python/site-packages (from pytest) (1.2.2)\n",
      "Requirement already satisfied: tomli>=1 in /Users/jamievuong/Library/Python/3.9/lib/python/site-packages (from pytest) (2.0.1)\n",
      "\n",
      "\u001b[1m[\u001b[0m\u001b[34;49mnotice\u001b[0m\u001b[1;39;49m]\u001b[0m\u001b[39;49m A new release of pip is available: \u001b[0m\u001b[31;49m23.3.1\u001b[0m\u001b[39;49m -> \u001b[0m\u001b[32;49m24.2\u001b[0m\n",
      "\u001b[1m[\u001b[0m\u001b[34;49mnotice\u001b[0m\u001b[1;39;49m]\u001b[0m\u001b[39;49m To update, run: \u001b[0m\u001b[32;49m/Applications/Xcode.app/Contents/Developer/usr/bin/python3 -m pip install --upgrade pip\u001b[0m\n",
      "Defaulting to user installation because normal site-packages is not writeable\n",
      "Requirement already satisfied: ipytest in /Users/jamievuong/Library/Python/3.9/lib/python/site-packages (0.14.2)\n",
      "Requirement already satisfied: ipython in /Users/jamievuong/Library/Python/3.9/lib/python/site-packages (from ipytest) (8.18.1)\n",
      "Requirement already satisfied: packaging in /Users/jamievuong/Library/Python/3.9/lib/python/site-packages (from ipytest) (24.1)\n",
      "Requirement already satisfied: pytest>=5.4 in /Users/jamievuong/Library/Python/3.9/lib/python/site-packages (from ipytest) (8.3.2)\n",
      "Requirement already satisfied: iniconfig in /Users/jamievuong/Library/Python/3.9/lib/python/site-packages (from pytest>=5.4->ipytest) (2.0.0)\n",
      "Requirement already satisfied: pluggy<2,>=1.5 in /Users/jamievuong/Library/Python/3.9/lib/python/site-packages (from pytest>=5.4->ipytest) (1.5.0)\n",
      "Requirement already satisfied: exceptiongroup>=1.0.0rc8 in /Users/jamievuong/Library/Python/3.9/lib/python/site-packages (from pytest>=5.4->ipytest) (1.2.2)\n",
      "Requirement already satisfied: tomli>=1 in /Users/jamievuong/Library/Python/3.9/lib/python/site-packages (from pytest>=5.4->ipytest) (2.0.1)\n",
      "Requirement already satisfied: decorator in /Users/jamievuong/Library/Python/3.9/lib/python/site-packages (from ipython->ipytest) (5.1.1)\n",
      "Requirement already satisfied: jedi>=0.16 in /Users/jamievuong/Library/Python/3.9/lib/python/site-packages (from ipython->ipytest) (0.19.1)\n",
      "Requirement already satisfied: matplotlib-inline in /Users/jamievuong/Library/Python/3.9/lib/python/site-packages (from ipython->ipytest) (0.1.7)\n",
      "Requirement already satisfied: prompt-toolkit<3.1.0,>=3.0.41 in /Users/jamievuong/Library/Python/3.9/lib/python/site-packages (from ipython->ipytest) (3.0.47)\n",
      "Requirement already satisfied: pygments>=2.4.0 in /Users/jamievuong/Library/Python/3.9/lib/python/site-packages (from ipython->ipytest) (2.18.0)\n",
      "Requirement already satisfied: stack-data in /Users/jamievuong/Library/Python/3.9/lib/python/site-packages (from ipython->ipytest) (0.6.3)\n",
      "Requirement already satisfied: traitlets>=5 in /Users/jamievuong/Library/Python/3.9/lib/python/site-packages (from ipython->ipytest) (5.14.3)\n",
      "Requirement already satisfied: typing-extensions in /Users/jamievuong/Library/Python/3.9/lib/python/site-packages (from ipython->ipytest) (4.12.2)\n",
      "Requirement already satisfied: pexpect>4.3 in /Users/jamievuong/Library/Python/3.9/lib/python/site-packages (from ipython->ipytest) (4.9.0)\n",
      "Requirement already satisfied: parso<0.9.0,>=0.8.3 in /Users/jamievuong/Library/Python/3.9/lib/python/site-packages (from jedi>=0.16->ipython->ipytest) (0.8.4)\n",
      "Requirement already satisfied: ptyprocess>=0.5 in /Users/jamievuong/Library/Python/3.9/lib/python/site-packages (from pexpect>4.3->ipython->ipytest) (0.7.0)\n",
      "Requirement already satisfied: wcwidth in /Users/jamievuong/Library/Python/3.9/lib/python/site-packages (from prompt-toolkit<3.1.0,>=3.0.41->ipython->ipytest) (0.2.13)\n",
      "Requirement already satisfied: executing>=1.2.0 in /Users/jamievuong/Library/Python/3.9/lib/python/site-packages (from stack-data->ipython->ipytest) (2.0.1)\n",
      "Requirement already satisfied: asttokens>=2.1.0 in /Users/jamievuong/Library/Python/3.9/lib/python/site-packages (from stack-data->ipython->ipytest) (2.4.1)\n",
      "Requirement already satisfied: pure-eval in /Users/jamievuong/Library/Python/3.9/lib/python/site-packages (from stack-data->ipython->ipytest) (0.2.3)\n",
      "Requirement already satisfied: six>=1.12.0 in /Users/jamievuong/Library/Python/3.9/lib/python/site-packages (from asttokens>=2.1.0->stack-data->ipython->ipytest) (1.16.0)\n",
      "\n",
      "\u001b[1m[\u001b[0m\u001b[34;49mnotice\u001b[0m\u001b[1;39;49m]\u001b[0m\u001b[39;49m A new release of pip is available: \u001b[0m\u001b[31;49m23.3.1\u001b[0m\u001b[39;49m -> \u001b[0m\u001b[32;49m24.2\u001b[0m\n",
      "\u001b[1m[\u001b[0m\u001b[34;49mnotice\u001b[0m\u001b[1;39;49m]\u001b[0m\u001b[39;49m To update, run: \u001b[0m\u001b[32;49m/Applications/Xcode.app/Contents/Developer/usr/bin/python3 -m pip install --upgrade pip\u001b[0m\n"
     ]
    }
   ],
   "source": [
    "# Let's make sure pytest and ipytest packages are installed\n",
    "# ipytest is required for running pytest inside Jupyter notebooks\n",
    "import sys\n",
    "\n",
    "!{sys.executable} -m pip install pytest\n",
    "!{sys.executable} -m pip install ipytest\n",
    "\n",
    "# These are needed for running pytest inside Jupyter notebooks\n",
    "import ipytest\n",
    "\n",
    "ipytest.autoconfig()"
   ]
  },
  {
   "cell_type": "markdown",
   "metadata": {},
   "source": [
    "# 1. Creating your first test case\n",
    "There is an implementation for `get_divisible_by_five` function in the cell below. Your task is to create a test case for this function to verify that it works correctly.\n"
   ]
  },
  {
   "cell_type": "code",
   "execution_count": 2,
   "metadata": {
    "editable": false
   },
   "outputs": [],
   "source": [
    "def get_divisible_by_five(numbers):\n",
    "    \"\"\"Returns a list of numbers which are divisible by five in the list got as an argument\"\"\"\n",
    "    result = []\n",
    "    for num in numbers:\n",
    "        if not num % 5:\n",
    "            result.append(num)\n",
    "\n",
    "    return result"
   ]
  },
  {
   "cell_type": "code",
   "execution_count": 3,
   "metadata": {},
   "outputs": [
    {
     "name": "stdout",
     "output_type": "stream",
     "text": [
      "\u001b[32m.\u001b[0m\u001b[32m                                                                                            [100%]\u001b[0m\n",
      "\u001b[32m\u001b[32m\u001b[1m1 passed\u001b[0m\u001b[32m in 0.00s\u001b[0m\u001b[0m\n"
     ]
    }
   ],
   "source": [
    "%%ipytest\n",
    "\n",
    "def test_get_divisible_by_five():\n",
    "    output = get_divisible_by_five([-1, 0, 1, 2, 3, 4, 5, 6, 7, 8, 9, 10, 15, 20, 100])\n",
    "    assert output == [0, 5, 10, 15, 20, 100]"
   ]
  }
 ],
 "metadata": {
  "kernelspec": {
   "display_name": "Python 3 (ipykernel)",
   "language": "python",
   "name": "python3"
  },
  "language_info": {
   "codemirror_mode": {
    "name": "ipython",
    "version": 3
   },
   "file_extension": ".py",
   "mimetype": "text/x-python",
   "name": "python",
   "nbconvert_exporter": "python",
   "pygments_lexer": "ipython3",
   "version": "3.9.6"
  }
 },
 "nbformat": 4,
 "nbformat_minor": 2
}
