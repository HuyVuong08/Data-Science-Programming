{
 "cells": [
  {
   "cell_type": "markdown",
   "metadata": {},
   "source": [
    "# Ex - GroupBy\n"
   ]
  },
  {
   "cell_type": "markdown",
   "metadata": {},
   "source": [
    "### Step 1. Import the necessary libraries\n"
   ]
  },
  {
   "cell_type": "code",
   "execution_count": 24,
   "metadata": {},
   "outputs": [],
   "source": [
    "import pandas as pd"
   ]
  },
  {
   "cell_type": "markdown",
   "metadata": {},
   "source": [
    "### Step 2. Import the dataset from this [address](https://raw.githubusercontent.com/justmarkham/DAT8/master/data/drinks.csv).\n"
   ]
  },
  {
   "cell_type": "markdown",
   "metadata": {},
   "source": [
    "### Step 3. Assign it to a variable called drinks.\n"
   ]
  },
  {
   "cell_type": "code",
   "execution_count": 25,
   "metadata": {},
   "outputs": [
    {
     "name": "stdout",
     "output_type": "stream",
     "text": [
      "       country  beer_servings  spirit_servings  wine_servings  \\\n",
      "0  Afghanistan              0                0              0   \n",
      "1      Albania             89              132             54   \n",
      "2      Algeria             25                0             14   \n",
      "3      Andorra            245              138            312   \n",
      "4       Angola            217               57             45   \n",
      "\n",
      "   total_litres_of_pure_alcohol continent  \n",
      "0                           0.0        AS  \n",
      "1                           4.9        EU  \n",
      "2                           0.7        AF  \n",
      "3                          12.4        EU  \n",
      "4                           5.9        AF  \n"
     ]
    }
   ],
   "source": [
    "url = \"https://raw.githubusercontent.com/justmarkham/DAT8/master/data/drinks.csv\"\n",
    "\n",
    "drinks = pd.read_csv(url, delimiter=',')\n",
    "\n",
    "print(drinks.head())"
   ]
  },
  {
   "cell_type": "markdown",
   "metadata": {},
   "source": [
    "### Step 4. Which continent drinks more beer on average?\n"
   ]
  },
  {
   "cell_type": "code",
   "execution_count": 26,
   "metadata": {},
   "outputs": [
    {
     "name": "stdout",
     "output_type": "stream",
     "text": [
      "  continent  beer_servings\n",
      "2        EU           8720\n",
      "0        AF           3258\n",
      "4        SA           2101\n",
      "1        AS           1630\n",
      "3        OC           1435\n"
     ]
    }
   ],
   "source": [
    "grouped_df = drinks.groupby('continent')['beer_servings'].sum().reset_index()\n",
    "\n",
    "# Sort the grouped DataFrame by 'beer_servings' in descending order\n",
    "sorted_df = grouped_df.sort_values(by='beer_servings', ascending=False)\n",
    "\n",
    "print(sorted_df)"
   ]
  },
  {
   "cell_type": "markdown",
   "metadata": {},
   "source": [
    "## Answer:\n",
    "\n",
    "From the table above, we can see that the continent that drinks more beer on average is Europe, followed by Afica and North America.\n"
   ]
  },
  {
   "cell_type": "markdown",
   "metadata": {},
   "source": [
    "### Step 5. For each continent print the statistics for wine consumption.\n"
   ]
  },
  {
   "cell_type": "code",
   "execution_count": 27,
   "metadata": {},
   "outputs": [
    {
     "name": "stdout",
     "output_type": "stream",
     "text": [
      "  continent  wine_servings\n",
      "2        EU           6400\n",
      "0        AF            862\n",
      "4        SA            749\n",
      "3        OC            570\n",
      "1        AS            399\n"
     ]
    }
   ],
   "source": [
    "grouped_df = drinks.groupby('continent')['wine_servings'].sum().reset_index()\n",
    "\n",
    "# Sort the grouped DataFrame by 'wine_servings' in descending order\n",
    "sorted_df = grouped_df.sort_values(by='wine_servings', ascending=False)\n",
    "\n",
    "print(sorted_df)"
   ]
  },
  {
   "cell_type": "markdown",
   "metadata": {},
   "source": [
    "## Answer:\n",
    "\n",
    "From the table above, we can see that the continent that drinks more wine on average is Europe, followed by South America and North America.\n"
   ]
  },
  {
   "cell_type": "markdown",
   "metadata": {},
   "source": [
    "### Step 6. Print the mean alcohol consumption per continent for every column\n"
   ]
  },
  {
   "cell_type": "code",
   "execution_count": 28,
   "metadata": {},
   "outputs": [
    {
     "name": "stdout",
     "output_type": "stream",
     "text": [
      "  continent  beer_servings  spirit_servings  wine_servings  \\\n",
      "0        AF      61.471698        16.339623      16.264151   \n",
      "1        AS      37.045455        60.840909       9.068182   \n",
      "2        EU     193.777778       132.555556     142.222222   \n",
      "3        OC      89.687500        58.437500      35.625000   \n",
      "4        SA     175.083333       114.750000      62.416667   \n",
      "\n",
      "   total_litres_of_pure_alcohol  \n",
      "0                      3.007547  \n",
      "1                      2.170455  \n",
      "2                      8.617778  \n",
      "3                      3.381250  \n",
      "4                      6.308333  \n"
     ]
    }
   ],
   "source": [
    "mean_consumption = drinks.groupby('continent').mean({\n",
    "    'beer_servings': 'mean',\n",
    "    'spirit_servings': 'mean',\n",
    "    'wine_servings': 'mean',\n",
    "    'total_litres_of_pure_alcohol': 'mean'\n",
    "}).reset_index()\n",
    "\n",
    "print(mean_consumption)"
   ]
  },
  {
   "cell_type": "markdown",
   "metadata": {},
   "source": [
    "### Step 7. Print the median alcohol consumption per continent for every column\n"
   ]
  },
  {
   "cell_type": "code",
   "execution_count": 29,
   "metadata": {},
   "outputs": [
    {
     "name": "stdout",
     "output_type": "stream",
     "text": [
      "  continent  beer_servings  spirit_servings  wine_servings  \\\n",
      "0        AF           32.0              3.0            2.0   \n",
      "1        AS           17.5             16.0            1.0   \n",
      "2        EU          219.0            122.0          128.0   \n",
      "3        OC           52.5             37.0            8.5   \n",
      "4        SA          162.5            108.5           12.0   \n",
      "\n",
      "   total_litres_of_pure_alcohol  \n",
      "0                          2.30  \n",
      "1                          1.20  \n",
      "2                         10.00  \n",
      "3                          1.75  \n",
      "4                          6.85  \n"
     ]
    }
   ],
   "source": [
    "median_consumption = drinks.groupby('continent').agg({\n",
    "    'beer_servings': 'median',\n",
    "    'spirit_servings': 'median',\n",
    "    'wine_servings': 'median',\n",
    "    'total_litres_of_pure_alcohol': 'median'\n",
    "}).reset_index()\n",
    "\n",
    "print(median_consumption)"
   ]
  },
  {
   "cell_type": "markdown",
   "metadata": {},
   "source": [
    "### Step 8. Print the mean, min and max values for spirit consumption.\n",
    "\n",
    "#### This time output a DataFrame\n"
   ]
  },
  {
   "cell_type": "code",
   "execution_count": 30,
   "metadata": {},
   "outputs": [
    {
     "name": "stdout",
     "output_type": "stream",
     "text": [
      "  continent spirit_servings         \n",
      "                       mean min  max\n",
      "0        AF       16.339623   0  152\n",
      "1        AS       60.840909   0  326\n",
      "2        EU      132.555556   0  373\n",
      "3        OC       58.437500   0  254\n",
      "4        SA      114.750000  25  302\n"
     ]
    }
   ],
   "source": [
    "spirit_stats = drinks.groupby('continent').agg({\n",
    "    'spirit_servings': ['mean', 'min', 'max']\n",
    "}).reset_index()\n",
    "\n",
    "print(spirit_stats)"
   ]
  }
 ],
 "metadata": {
  "kernelspec": {
   "display_name": "Python 3",
   "language": "python",
   "name": "python3"
  },
  "language_info": {
   "codemirror_mode": {
    "name": "ipython",
    "version": 3
   },
   "file_extension": ".py",
   "mimetype": "text/x-python",
   "name": "python",
   "nbconvert_exporter": "python",
   "pygments_lexer": "ipython3",
   "version": "3.9.6"
  }
 },
 "nbformat": 4,
 "nbformat_minor": 4
}
