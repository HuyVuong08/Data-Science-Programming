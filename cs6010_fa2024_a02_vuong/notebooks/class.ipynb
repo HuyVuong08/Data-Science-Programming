{
 "cells": [
  {
   "cell_type": "code",
   "execution_count": 3,
   "metadata": {},
   "outputs": [],
   "source": [
    "import pandas as pd\n",
    "import requests\n",
    "from bs4 import BeautifulSoup\n",
    "\n",
    "base_url = 'http://quotes.toscrape.com'\n",
    "url = base_url\n",
    "\n",
    "data = []"
   ]
  },
  {
   "cell_type": "code",
   "execution_count": 4,
   "metadata": {},
   "outputs": [],
   "source": [
    "base_url = 'http://quotes.toscrape.com'\n",
    "url = base_url\n",
    "\n",
    "data = []\n",
    "\n",
    "soup = BeautifulSoup(requests.get(url).text)\n",
    "for e in soup.select('div.quote'):\n",
    "    qoute = {\n",
    "        'author':e.select_one('small.author').text,\n",
    "        'qoute':e.select_one('span.text').text\n",
    "    }\n",
    "    data.append(qoute)"
   ]
  }
 ],
 "metadata": {
  "kernelspec": {
   "display_name": ".venv",
   "language": "python",
   "name": "python3"
  },
  "language_info": {
   "codemirror_mode": {
    "name": "ipython",
    "version": 3
   },
   "file_extension": ".py",
   "mimetype": "text/x-python",
   "name": "python",
   "nbconvert_exporter": "python",
   "pygments_lexer": "ipython3",
   "version": "3.9.6"
  }
 },
 "nbformat": 4,
 "nbformat_minor": 2
}
