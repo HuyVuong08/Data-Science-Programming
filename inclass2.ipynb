{
 "cells": [
  {
   "cell_type": "code",
   "execution_count": 2,
   "metadata": {},
   "outputs": [
    {
     "data": {
      "text/html": [
       "<div>\n",
       "<style scoped>\n",
       "    .dataframe tbody tr th:only-of-type {\n",
       "        vertical-align: middle;\n",
       "    }\n",
       "\n",
       "    .dataframe tbody tr th {\n",
       "        vertical-align: top;\n",
       "    }\n",
       "\n",
       "    .dataframe thead th {\n",
       "        text-align: right;\n",
       "    }\n",
       "</style>\n",
       "<table border=\"1\" class=\"dataframe\">\n",
       "  <thead>\n",
       "    <tr style=\"text-align: right;\">\n",
       "      <th></th>\n",
       "      <th>Date</th>\n",
       "      <th>City</th>\n",
       "      <th>Temperature</th>\n",
       "      <th>Humidity</th>\n",
       "      <th>WindSpeed</th>\n",
       "    </tr>\n",
       "  </thead>\n",
       "  <tbody>\n",
       "    <tr>\n",
       "      <th>0</th>\n",
       "      <td>2023-01-01</td>\n",
       "      <td>New York</td>\n",
       "      <td>12.456420</td>\n",
       "      <td>60.495852</td>\n",
       "      <td>7.091924</td>\n",
       "    </tr>\n",
       "    <tr>\n",
       "      <th>1</th>\n",
       "      <td>2023-01-02</td>\n",
       "      <td>New York</td>\n",
       "      <td>16.316282</td>\n",
       "      <td>45.232129</td>\n",
       "      <td>8.609636</td>\n",
       "    </tr>\n",
       "    <tr>\n",
       "      <th>2</th>\n",
       "      <td>2023-01-03</td>\n",
       "      <td>New York</td>\n",
       "      <td>3.458917</td>\n",
       "      <td>48.220244</td>\n",
       "      <td>14.539550</td>\n",
       "    </tr>\n",
       "    <tr>\n",
       "      <th>3</th>\n",
       "      <td>2023-01-04</td>\n",
       "      <td>New York</td>\n",
       "      <td>8.710284</td>\n",
       "      <td>41.412007</td>\n",
       "      <td>19.860096</td>\n",
       "    </tr>\n",
       "    <tr>\n",
       "      <th>4</th>\n",
       "      <td>2023-01-05</td>\n",
       "      <td>New York</td>\n",
       "      <td>10.665972</td>\n",
       "      <td>83.534447</td>\n",
       "      <td>10.217881</td>\n",
       "    </tr>\n",
       "    <tr>\n",
       "      <th>...</th>\n",
       "      <td>...</td>\n",
       "      <td>...</td>\n",
       "      <td>...</td>\n",
       "      <td>...</td>\n",
       "      <td>...</td>\n",
       "    </tr>\n",
       "    <tr>\n",
       "      <th>1455</th>\n",
       "      <td>2023-12-27</td>\n",
       "      <td>Houston</td>\n",
       "      <td>20.069388</td>\n",
       "      <td>58.695364</td>\n",
       "      <td>22.798581</td>\n",
       "    </tr>\n",
       "    <tr>\n",
       "      <th>1456</th>\n",
       "      <td>2023-12-28</td>\n",
       "      <td>Houston</td>\n",
       "      <td>22.696213</td>\n",
       "      <td>60.562532</td>\n",
       "      <td>11.103913</td>\n",
       "    </tr>\n",
       "    <tr>\n",
       "      <th>1457</th>\n",
       "      <td>2023-12-29</td>\n",
       "      <td>Houston</td>\n",
       "      <td>19.078928</td>\n",
       "      <td>56.943841</td>\n",
       "      <td>9.594007</td>\n",
       "    </tr>\n",
       "    <tr>\n",
       "      <th>1458</th>\n",
       "      <td>2023-12-30</td>\n",
       "      <td>Houston</td>\n",
       "      <td>32.887425</td>\n",
       "      <td>36.923392</td>\n",
       "      <td>14.601944</td>\n",
       "    </tr>\n",
       "    <tr>\n",
       "      <th>1459</th>\n",
       "      <td>2023-12-31</td>\n",
       "      <td>Houston</td>\n",
       "      <td>20.562263</td>\n",
       "      <td>35.874841</td>\n",
       "      <td>16.367557</td>\n",
       "    </tr>\n",
       "  </tbody>\n",
       "</table>\n",
       "<p>1460 rows × 5 columns</p>\n",
       "</div>"
      ],
      "text/plain": [
       "           Date      City  Temperature   Humidity  WindSpeed\n",
       "0    2023-01-01  New York    12.456420  60.495852   7.091924\n",
       "1    2023-01-02  New York    16.316282  45.232129   8.609636\n",
       "2    2023-01-03  New York     3.458917  48.220244  14.539550\n",
       "3    2023-01-04  New York     8.710284  41.412007  19.860096\n",
       "4    2023-01-05  New York    10.665972  83.534447  10.217881\n",
       "...         ...       ...          ...        ...        ...\n",
       "1455 2023-12-27   Houston    20.069388  58.695364  22.798581\n",
       "1456 2023-12-28   Houston    22.696213  60.562532  11.103913\n",
       "1457 2023-12-29   Houston    19.078928  56.943841   9.594007\n",
       "1458 2023-12-30   Houston    32.887425  36.923392  14.601944\n",
       "1459 2023-12-31   Houston    20.562263  35.874841  16.367557\n",
       "\n",
       "[1460 rows x 5 columns]"
      ]
     },
     "execution_count": 2,
     "metadata": {},
     "output_type": "execute_result"
    }
   ],
   "source": [
    "import pandas as pd\n",
    "\n",
    "import numpy as np\n",
    "\n",
    "\n",
    "\n",
    "# Create sample weather data\n",
    "\n",
    "cities = ['New York', 'Los Angeles', 'Chicago', 'Houston']\n",
    "\n",
    "date_range = pd.date_range(start='2023-01-01', end='2023-12-31', freq='D')\n",
    "\n",
    "data = {\n",
    "\n",
    " 'Date': np.tile(date_range, len(cities)),\n",
    "\n",
    " 'City': np.repeat(cities, len(date_range)),\n",
    "\n",
    " 'Temperature': np.random.normal(15, 10, size=len(cities) * len(date_range)),\n",
    "\n",
    " 'Humidity': np.random.normal(60, 15, size=len(cities) * len(date_range)),\n",
    "\n",
    " 'WindSpeed': np.random.normal(10, 5, size=len(cities) * len(date_range))\n",
    "\n",
    "}\n",
    "\n",
    "\n",
    "\n",
    "df = pd.DataFrame(data)\n",
    "\n",
    "df"
   ]
  },
  {
   "cell_type": "markdown",
   "metadata": {},
   "source": [
    "## Task 1: Pivot the Data to Show Temperature for Each City by Date"
   ]
  },
  {
   "cell_type": "code",
   "execution_count": 3,
   "metadata": {},
   "outputs": [
    {
     "name": "stdout",
     "output_type": "stream",
     "text": [
      "Pivoted Temperature Data:\n",
      " City          Chicago    Houston  Los Angeles   New York\n",
      "Date                                                    \n",
      "2023-01-01   4.020356  17.949282    11.626410  12.456420\n",
      "2023-01-02  13.330828  32.098683    16.062846  16.316282\n",
      "2023-01-03  11.782012   4.644233    19.441459   3.458917\n",
      "2023-01-04  11.931772   4.233449     9.817554   8.710284\n",
      "2023-01-05  32.655874   5.935197    12.208656  10.665972\n"
     ]
    }
   ],
   "source": [
    "# Pivot the data to show temperature for each city by date\n",
    "pivot_temp = df.pivot(index='Date', columns='City', values='Temperature')\n",
    "print(\"Pivoted Temperature Data:\\n\", pivot_temp.head())"
   ]
  },
  {
   "cell_type": "markdown",
   "metadata": {},
   "source": [
    "## Task 2: Melt the Pivoted Temperature Data Back to Long Format"
   ]
  },
  {
   "cell_type": "code",
   "execution_count": 4,
   "metadata": {},
   "outputs": [
    {
     "name": "stdout",
     "output_type": "stream",
     "text": [
      "\n",
      "Melted Temperature Data:\n",
      "            Date      City  Temperature\n",
      "0    2023-01-01   Chicago     4.020356\n",
      "1    2023-01-02   Chicago    13.330828\n",
      "2    2023-01-03   Chicago    11.782012\n",
      "3    2023-01-04   Chicago    11.931772\n",
      "4    2023-01-05   Chicago    32.655874\n",
      "...         ...       ...          ...\n",
      "1455 2023-12-27  New York     8.028653\n",
      "1456 2023-12-28  New York    11.158359\n",
      "1457 2023-12-29  New York     8.950784\n",
      "1458 2023-12-30  New York    13.777269\n",
      "1459 2023-12-31  New York     3.934849\n",
      "\n",
      "[1460 rows x 3 columns]\n"
     ]
    }
   ],
   "source": [
    "# Melt the pivoted temperature data\n",
    "melted_temp = pivot_temp.reset_index().melt(id_vars='Date', var_name='City', value_name='Temperature')\n",
    "print(\"\\nMelted Temperature Data:\\n\", melted_temp)"
   ]
  },
  {
   "cell_type": "markdown",
   "metadata": {},
   "source": [
    "## Task 3: Create a Multi-Index DataFrame with City and Date as Index Levels"
   ]
  },
  {
   "cell_type": "code",
   "execution_count": 5,
   "metadata": {},
   "outputs": [
    {
     "name": "stdout",
     "output_type": "stream",
     "text": [
      "\n",
      "Multi-Index Temperature Data:\n",
      "                      Temperature\n",
      "City     Date                   \n",
      "Chicago  2023-01-01     4.020356\n",
      "         2023-01-02    13.330828\n",
      "         2023-01-03    11.782012\n",
      "         2023-01-04    11.931772\n",
      "         2023-01-05    32.655874\n",
      "...                          ...\n",
      "New York 2023-12-27     8.028653\n",
      "         2023-12-28    11.158359\n",
      "         2023-12-29     8.950784\n",
      "         2023-12-30    13.777269\n",
      "         2023-12-31     3.934849\n",
      "\n",
      "[1460 rows x 1 columns]\n"
     ]
    }
   ],
   "source": [
    "# Set City and Date as MultiIndex\n",
    "multi_index_temp = melted_temp.set_index(['City', 'Date'])\n",
    "print(\"\\nMulti-Index Temperature Data:\\n\", multi_index_temp)"
   ]
  },
  {
   "cell_type": "markdown",
   "metadata": {},
   "source": [
    "## Task 4: Stack the Multi-Index DataFrame to Create a Series"
   ]
  },
  {
   "cell_type": "code",
   "execution_count": 6,
   "metadata": {},
   "outputs": [
    {
     "name": "stdout",
     "output_type": "stream",
     "text": [
      "\n",
      "Stacked Temperature Series:\n",
      " City      Date                   \n",
      "Chicago   2023-01-01  Temperature     4.020356\n",
      "          2023-01-02  Temperature    13.330828\n",
      "          2023-01-03  Temperature    11.782012\n",
      "          2023-01-04  Temperature    11.931772\n",
      "          2023-01-05  Temperature    32.655874\n",
      "                                       ...    \n",
      "New York  2023-12-27  Temperature     8.028653\n",
      "          2023-12-28  Temperature    11.158359\n",
      "          2023-12-29  Temperature     8.950784\n",
      "          2023-12-30  Temperature    13.777269\n",
      "          2023-12-31  Temperature     3.934849\n",
      "Length: 1460, dtype: float64\n"
     ]
    }
   ],
   "source": [
    "# Stack the multi-index DataFrame to create a Series\n",
    "stacked_temp = multi_index_temp.stack()\n",
    "print(\"\\nStacked Temperature Series:\\n\", stacked_temp)"
   ]
  },
  {
   "cell_type": "markdown",
   "metadata": {},
   "source": [
    "## Task 5: Unstack the Series to Create a DataFrame with Cities as Columns"
   ]
  },
  {
   "cell_type": "code",
   "execution_count": 7,
   "metadata": {},
   "outputs": [
    {
     "name": "stdout",
     "output_type": "stream",
     "text": [
      "\n",
      "Unstacked Temperature DataFrame:\n",
      " City                      Chicago    Houston  Los Angeles   New York\n",
      "Date                                                                \n",
      "2023-01-01 Temperature   4.020356  17.949282    11.626410  12.456420\n",
      "2023-01-02 Temperature  13.330828  32.098683    16.062846  16.316282\n",
      "2023-01-03 Temperature  11.782012   4.644233    19.441459   3.458917\n",
      "2023-01-04 Temperature  11.931772   4.233449     9.817554   8.710284\n",
      "2023-01-05 Temperature  32.655874   5.935197    12.208656  10.665972\n"
     ]
    }
   ],
   "source": [
    "# Unstack the Series to create a DataFrame with cities as columns\n",
    "unstacked_temp = stacked_temp.unstack(level='City')\n",
    "print(\"\\nUnstacked Temperature DataFrame:\\n\", unstacked_temp.head())"
   ]
  }
 ],
 "metadata": {
  "kernelspec": {
   "display_name": "Python 3",
   "language": "python",
   "name": "python3"
  },
  "language_info": {
   "codemirror_mode": {
    "name": "ipython",
    "version": 3
   },
   "file_extension": ".py",
   "mimetype": "text/x-python",
   "name": "python",
   "nbconvert_exporter": "python",
   "pygments_lexer": "ipython3",
   "version": "3.9.6"
  }
 },
 "nbformat": 4,
 "nbformat_minor": 2
}
