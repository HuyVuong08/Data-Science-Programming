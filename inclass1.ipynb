{
 "cells": [
  {
   "cell_type": "code",
   "execution_count": 6,
   "metadata": {},
   "outputs": [
    {
     "data": {
      "text/html": [
       "<div>\n",
       "<style scoped>\n",
       "    .dataframe tbody tr th:only-of-type {\n",
       "        vertical-align: middle;\n",
       "    }\n",
       "\n",
       "    .dataframe tbody tr th {\n",
       "        vertical-align: top;\n",
       "    }\n",
       "\n",
       "    .dataframe thead th {\n",
       "        text-align: right;\n",
       "    }\n",
       "</style>\n",
       "<table border=\"1\" class=\"dataframe\">\n",
       "  <thead>\n",
       "    <tr style=\"text-align: right;\">\n",
       "      <th></th>\n",
       "      <th>Date</th>\n",
       "      <th>Product</th>\n",
       "      <th>Category</th>\n",
       "      <th>Sales</th>\n",
       "      <th>Quantity</th>\n",
       "    </tr>\n",
       "  </thead>\n",
       "  <tbody>\n",
       "    <tr>\n",
       "      <th>0</th>\n",
       "      <td>2023-01-01</td>\n",
       "      <td>A</td>\n",
       "      <td>Home</td>\n",
       "      <td>703</td>\n",
       "      <td>30</td>\n",
       "    </tr>\n",
       "    <tr>\n",
       "      <th>1</th>\n",
       "      <td>2023-01-02</td>\n",
       "      <td>A</td>\n",
       "      <td>Clothing</td>\n",
       "      <td>961</td>\n",
       "      <td>39</td>\n",
       "    </tr>\n",
       "    <tr>\n",
       "      <th>2</th>\n",
       "      <td>2023-01-03</td>\n",
       "      <td>B</td>\n",
       "      <td>Home</td>\n",
       "      <td>371</td>\n",
       "      <td>36</td>\n",
       "    </tr>\n",
       "    <tr>\n",
       "      <th>3</th>\n",
       "      <td>2023-01-04</td>\n",
       "      <td>A</td>\n",
       "      <td>Home</td>\n",
       "      <td>225</td>\n",
       "      <td>33</td>\n",
       "    </tr>\n",
       "    <tr>\n",
       "      <th>4</th>\n",
       "      <td>2023-01-05</td>\n",
       "      <td>A</td>\n",
       "      <td>Home</td>\n",
       "      <td>108</td>\n",
       "      <td>17</td>\n",
       "    </tr>\n",
       "    <tr>\n",
       "      <th>...</th>\n",
       "      <td>...</td>\n",
       "      <td>...</td>\n",
       "      <td>...</td>\n",
       "      <td>...</td>\n",
       "      <td>...</td>\n",
       "    </tr>\n",
       "    <tr>\n",
       "      <th>85</th>\n",
       "      <td>2023-03-27</td>\n",
       "      <td>C</td>\n",
       "      <td>Electronics</td>\n",
       "      <td>966</td>\n",
       "      <td>2</td>\n",
       "    </tr>\n",
       "    <tr>\n",
       "      <th>86</th>\n",
       "      <td>2023-03-28</td>\n",
       "      <td>A</td>\n",
       "      <td>Electronics</td>\n",
       "      <td>168</td>\n",
       "      <td>6</td>\n",
       "    </tr>\n",
       "    <tr>\n",
       "      <th>87</th>\n",
       "      <td>2023-03-29</td>\n",
       "      <td>A</td>\n",
       "      <td>Electronics</td>\n",
       "      <td>733</td>\n",
       "      <td>13</td>\n",
       "    </tr>\n",
       "    <tr>\n",
       "      <th>88</th>\n",
       "      <td>2023-03-30</td>\n",
       "      <td>A</td>\n",
       "      <td>Home</td>\n",
       "      <td>479</td>\n",
       "      <td>22</td>\n",
       "    </tr>\n",
       "    <tr>\n",
       "      <th>89</th>\n",
       "      <td>2023-03-31</td>\n",
       "      <td>B</td>\n",
       "      <td>Clothing</td>\n",
       "      <td>239</td>\n",
       "      <td>35</td>\n",
       "    </tr>\n",
       "  </tbody>\n",
       "</table>\n",
       "<p>90 rows × 5 columns</p>\n",
       "</div>"
      ],
      "text/plain": [
       "         Date Product     Category  Sales  Quantity\n",
       "0  2023-01-01       A         Home    703        30\n",
       "1  2023-01-02       A     Clothing    961        39\n",
       "2  2023-01-03       B         Home    371        36\n",
       "3  2023-01-04       A         Home    225        33\n",
       "4  2023-01-05       A         Home    108        17\n",
       "..        ...     ...          ...    ...       ...\n",
       "85 2023-03-27       C  Electronics    966         2\n",
       "86 2023-03-28       A  Electronics    168         6\n",
       "87 2023-03-29       A  Electronics    733        13\n",
       "88 2023-03-30       A         Home    479        22\n",
       "89 2023-03-31       B     Clothing    239        35\n",
       "\n",
       "[90 rows x 5 columns]"
      ]
     },
     "execution_count": 6,
     "metadata": {},
     "output_type": "execute_result"
    }
   ],
   "source": [
    "import pandas as pd\n",
    "\n",
    "import numpy as np\n",
    "\n",
    "\n",
    "\n",
    "# Create sample e-commerce data\n",
    "\n",
    "data = {\n",
    "\n",
    " 'Date': pd.date_range(start='2023-01-01', end='2023-03-31', freq='D'),\n",
    "\n",
    " 'Product': np.random.choice(['A', 'B', 'C'], size=90),\n",
    "\n",
    " 'Category': np.random.choice(['Electronics', 'Clothing', 'Home'], size=90),\n",
    "\n",
    " 'Sales': np.random.randint(100, 1000, size=90),\n",
    "\n",
    " 'Quantity': np.random.randint(1, 50, size=90)\n",
    "\n",
    "}\n",
    "\n",
    "\n",
    "\n",
    "df = pd.DataFrame(data)\n",
    "\n",
    "df"
   ]
  },
  {
   "cell_type": "markdown",
   "metadata": {},
   "source": [
    "## Task 1: Create a Pivot Table of Total Sales by Product and Category"
   ]
  },
  {
   "cell_type": "code",
   "execution_count": 7,
   "metadata": {},
   "outputs": [
    {
     "name": "stdout",
     "output_type": "stream",
     "text": [
      "Pivot Table:\n",
      " Category  Clothing  Electronics  Home\n",
      "Product                              \n",
      "A             4014         3835  8236\n",
      "B             4506         3436  5572\n",
      "C             3216         8708  8328\n"
     ]
    }
   ],
   "source": [
    "# Pivot table for total sales by Product and Category\n",
    "pivot_table = df.pivot_table(values='Sales', index='Product', columns='Category', aggfunc='sum', fill_value=0)\n",
    "print(\"Pivot Table:\\n\", pivot_table)"
   ]
  },
  {
   "cell_type": "markdown",
   "metadata": {},
   "source": [
    "## Task 2: Melt the Pivot Table to Long Format"
   ]
  },
  {
   "cell_type": "code",
   "execution_count": 8,
   "metadata": {},
   "outputs": [
    {
     "name": "stdout",
     "output_type": "stream",
     "text": [
      "\n",
      "Melted DataFrame:\n",
      "   Product     Category  Total_Sales\n",
      "0       A     Clothing         4014\n",
      "1       B     Clothing         4506\n",
      "2       C     Clothing         3216\n",
      "3       A  Electronics         3835\n",
      "4       B  Electronics         3436\n",
      "5       C  Electronics         8708\n",
      "6       A         Home         8236\n",
      "7       B         Home         5572\n",
      "8       C         Home         8328\n"
     ]
    }
   ],
   "source": [
    "# Melt the pivot table\n",
    "melted_df = pivot_table.reset_index().melt(id_vars='Product', var_name='Category', value_name='Total_Sales')\n",
    "print(\"\\nMelted DataFrame:\\n\", melted_df)\n"
   ]
  },
  {
   "cell_type": "markdown",
   "metadata": {},
   "source": [
    "## Task 3: Stack the Melted DataFrame to Create a Multi-Index"
   ]
  },
  {
   "cell_type": "code",
   "execution_count": 9,
   "metadata": {},
   "outputs": [
    {
     "name": "stdout",
     "output_type": "stream",
     "text": [
      "\n",
      "Stacked DataFrame:\n",
      " Product  Category                \n",
      "A        Clothing     Total_Sales    4014\n",
      "B        Clothing     Total_Sales    4506\n",
      "C        Clothing     Total_Sales    3216\n",
      "A        Electronics  Total_Sales    3835\n",
      "B        Electronics  Total_Sales    3436\n",
      "C        Electronics  Total_Sales    8708\n",
      "A        Home         Total_Sales    8236\n",
      "B        Home         Total_Sales    5572\n",
      "C        Home         Total_Sales    8328\n",
      "dtype: int64\n"
     ]
    }
   ],
   "source": [
    "# Set Product and Category as MultiIndex\n",
    "stacked_df = melted_df.set_index(['Product', 'Category']).stack()\n",
    "print(\"\\nStacked DataFrame:\\n\", stacked_df)"
   ]
  },
  {
   "cell_type": "markdown",
   "metadata": {},
   "source": [
    "## Task 4: Unstack the Final Result to Return to the Original Pivot Table Format"
   ]
  },
  {
   "cell_type": "code",
   "execution_count": 11,
   "metadata": {},
   "outputs": [
    {
     "name": "stdout",
     "output_type": "stream",
     "text": [
      "\n",
      "Unstacked DataFrame (Back to Pivot Table):\n",
      " Category             Clothing  Electronics  Home\n",
      "Product                                         \n",
      "A       Total_Sales      4014         3835  8236\n",
      "B       Total_Sales      4506         3436  5572\n",
      "C       Total_Sales      3216         8708  8328\n"
     ]
    }
   ],
   "source": [
    "# Unstack the multi-index DataFrame to return to the original pivot table format\n",
    "unstacked_df = stacked_df.unstack(level='Category')\n",
    "print(\"\\nUnstacked DataFrame (Back to Pivot Table):\\n\", unstacked_df)"
   ]
  }
 ],
 "metadata": {
  "kernelspec": {
   "display_name": "Python 3",
   "language": "python",
   "name": "python3"
  },
  "language_info": {
   "codemirror_mode": {
    "name": "ipython",
    "version": 3
   },
   "file_extension": ".py",
   "mimetype": "text/x-python",
   "name": "python",
   "nbconvert_exporter": "python",
   "pygments_lexer": "ipython3",
   "version": "3.9.6"
  }
 },
 "nbformat": 4,
 "nbformat_minor": 2
}
